{
 "cells": [
  {
   "cell_type": "code",
   "execution_count": 417,
   "metadata": {},
   "outputs": [],
   "source": [
    "import pandas as pd\n",
    "import numpy as np"
   ]
  },
  {
   "cell_type": "code",
   "execution_count": 418,
   "metadata": {},
   "outputs": [],
   "source": [
    "team_abbrev = {\n",
    "'LOS': 'LAD',\n",
    "'TAM': 'TBR',    \n",
    "'MIL': 'MIL',\n",
    "'SEA': 'SEA',\n",
    "'TOR': 'TOR',\n",
    "'LAA': 'LAA',\n",
    "'OAK': 'OAK',\n",
    "'HOU': 'HOU',\n",
    "'KAN': 'KCR',\n",
    "'BOS': 'BOS',\n",
    "'PHI': 'PHI',\n",
    "'ARI': 'ARI',\n",
    "'CUB': 'CHC',\n",
    "'ATL': 'ATL',\n",
    "'SFO': 'SFG',\n",
    "'COL': 'COL',\n",
    "'NYM': 'NYM',\n",
    "'SDG': 'SDP',\n",
    "'TEX': 'TEX',\n",
    "'MIN': 'MIN',\n",
    "'NYY': 'NYY',\n",
    "'WAS': 'WSN',\n",
    "'STL': 'STL',\n",
    "'BAL': 'BAL',\n",
    "'PIT': 'PIT',\n",
    "'CIN': 'CIN',\n",
    "'CLE': 'CLE',\n",
    "'CWS': 'CHW',\n",
    "'MIA': 'MIA',\n",
    "'DET': 'DET',\n",
    "'LAD': 'LAD'\n",
    "}\n"
   ]
  },
  {
   "cell_type": "code",
   "execution_count": 419,
   "metadata": {},
   "outputs": [],
   "source": [
    "team_codes = {\n",
    "'LAD': '01',\n",
    "'TBR': '02',    \n",
    "'MIL': '03',\n",
    "'SEA': '04',\n",
    "'TOR': '05',\n",
    "'LAA': '06',\n",
    "'OAK': '07',\n",
    "'HOU': '08',\n",
    "'KCR': '09',\n",
    "'BOS': '10',\n",
    "'PHI': '11',\n",
    "'ARI': '12',\n",
    "'CHC': '13',\n",
    "'ATL': '14',\n",
    "'SFG': '15',\n",
    "'COL': '16',\n",
    "'NYM': '17',\n",
    "'SDP': '18',\n",
    "'TEX': '19',\n",
    "'MIN': '20',\n",
    "'NYY': '21',\n",
    "'WSN': '22',\n",
    "'STL': '23',\n",
    "'BAL': '24',\n",
    "'PIT': '25',\n",
    "'CIN': '26',\n",
    "'CLE': '27',\n",
    "'CHW': '28',\n",
    "'MIA': '29',\n",
    "'DET': '30'\n",
    "}\n"
   ]
  },
  {
   "cell_type": "code",
   "execution_count": 420,
   "metadata": {},
   "outputs": [],
   "source": [
    "def clean_18():\n",
    "    df_18 = pd.read_excel('../data/mlb odds 2018.xlsx')\n",
    "    df_18['Run Line'] = df_18['Run Line'].astype('str')\n",
    "    df_18['Unnamed: 18'] = df_18['Unnamed: 18'].astype('str')\n",
    "    df_18['RL'] = df_18['Run Line'] + '(' + df_18['Unnamed: 18'] + ')'\n",
    "    df_18.drop(columns=['Run Line', 'Unnamed: 18'], inplace=True)\n",
    "    cols = ['Date', 'Rot', 'VH', 'Team', 'Pitcher', '1st', '2nd', '3rd', '4th',\n",
    "       '5th', '6th', '7th', '8th', '9th', 'Final', 'Open', 'Close', 'RL',\n",
    "       'Open OU', 'Unnamed: 20', 'Close OU', 'Unnamed: 22']\n",
    "    df_18 = df_18[cols]\n",
    "    df_18.columns= ['Date', 'Rot', 'VH', 'Team', 'Pitcher', '1st', '2nd', '3rd', '4th',\n",
    "       '5th', '6th', '7th', '8th', '9th', 'Final', 'Open', 'Close', 'RL',\n",
    "       'Open OU', 'Unnamed: 19', 'Close OU', 'Unnamed: 21']\n",
    "    return df_18"
   ]
  },
  {
   "cell_type": "code",
   "execution_count": 458,
   "metadata": {},
   "outputs": [],
   "source": [
    "def clean_19():\n",
    "    df_19 = pd.read_excel('../data/mlb odds 2019 (2).xlsx')\n",
    "    df_19['Run Line'] = df_19['Run Line'].astype('str')\n",
    "    df_19['Unnamed: 18'] = df_19['Unnamed: 18'].astype('str')\n",
    "    df_19['RL'] = df_19['Run Line'] + '(' + df_19['Unnamed: 18'] + ')'\n",
    "    df_19.drop(columns=['Run Line', 'Unnamed: 18'], inplace=True)\n",
    "    cols = ['Date', 'Rot', 'VH', 'Team', 'Pitcher', '1st', '2nd', '3rd', '4th',\n",
    "       '5th', '6th', '7th', '8th', '9th', 'Final', 'Open', 'Close', 'RL',\n",
    "       'Open OU', 'Unnamed: 20', 'Close OU', 'Unnamed: 22']\n",
    "    df_19 = df_19[cols]\n",
    "    df_19.columns= ['Date', 'Rot', 'VH', 'Team', 'Pitcher', '1st', '2nd', '3rd', '4th',\n",
    "       '5th', '6th', '7th', '8th', '9th', 'Final', 'Open', 'Close', 'RL',\n",
    "       'Open OU', 'Unnamed: 19', 'Close OU', 'Unnamed: 21']\n",
    "    return df_19"
   ]
  },
  {
   "cell_type": "code",
   "execution_count": 421,
   "metadata": {},
   "outputs": [],
   "source": [
    "df_18 = clean_18()"
   ]
  },
  {
   "cell_type": "code",
   "execution_count": 459,
   "metadata": {},
   "outputs": [],
   "source": [
    "df_19 = clean_19()"
   ]
  },
  {
   "cell_type": "code",
   "execution_count": null,
   "metadata": {},
   "outputs": [],
   "source": []
  },
  {
   "cell_type": "code",
   "execution_count": 597,
   "metadata": {},
   "outputs": [],
   "source": [
    "def odds_preprocessing(df_18, df_19):\n",
    "    # df =pd.read_csv('home_fav.csv')\n",
    "    df_14 = pd.read_excel('../data/mlb_odds_2014.xlsx')\n",
    "    df_15 = pd.read_excel('../data/mlb odds 2015.xlsx')\n",
    "    df_16 = pd.read_excel('../data/mlb odds 2016.xlsx')\n",
    "    df_17 = pd.read_excel('../data/mlb odds 2017.xlsx')\n",
    "#     df_19 = pd.read_excel('../data/mlb odds 2019.xlsx')\n",
    "    df_14['Year'] = 2014\n",
    "    df_15['Year'] = 2015\n",
    "    df_16['Year'] = 2016\n",
    "    df_17['Year'] = 2017\n",
    "    df_18['Year'] = 2018\n",
    "    df_19['Year'] = 2019\n",
    "    df_total = pd.concat([df_14, df_15, df_16, df_17, df_18, df_19], ignore_index=True)\n",
    "    vis = df_total.iloc[::2].copy()\n",
    "    home = df_total.iloc[1::2].copy()\n",
    "    vis.columns = ['Date', 'Rot', 'VH', 'Visitor Team', 'Visitor Pitcher', '1st', '2nd', '3rd', '4th',\n",
    "       '5th', '6th', '7th', '8th', '9th', 'Final', 'Open Visitor ML', 'Close Visitor ML', 'Visitor RL',\n",
    "       'Open OU', 'Open OU Price', 'Close OU', 'Close OU Price', 'Year']\n",
    "    home.columns = ['Date', 'Rot', 'VH', 'Home Team', 'Home Pitcher', '1st', '2nd', '3rd', '4th',\n",
    "       '5th', '6th', '7th', '8th', '9th', 'Final', 'Home Open ML', 'Home Close ML', 'Home RL',\n",
    "       'Open OU', 'Open OU Price', 'Close OU', 'Close OU Price', 'Year']\n",
    "    game_count = [i for i in range(1,vis.shape[0] + 1)]\n",
    "    vis['game_id'] = game_count\n",
    "    home['game_id'] = game_count\n",
    "    combined = pd.merge(vis, home, on='game_id')\n",
    "    combined[['Visitor RL','Visitor RL Price']] = combined['Visitor RL'].str.split('\\(|\\)', expand=True).iloc[:,[0,1]]\n",
    "    combined[['Home RL','Home RL Price']] = combined['Home RL'].str.split('\\(|\\)', expand=True).iloc[:,[0,1]]\n",
    "    combined['Date_x'] = combined['Date_x'].astype('str')\n",
    "    combined['Date_x'] = combined['Date_x'].str.zfill(4)\n",
    "    combined['Year_x'] = combined['Year_x'].astype('str')\n",
    "    combined['date'] = combined['Year_x'] + combined['Date_x']\n",
    "    combined['date'] = pd.to_datetime(combined['date'])\n",
    "    rl = combined.copy()\n",
    "    rl.drop([5777], inplace=True)\n",
    "    rl['Visitor RL'] = rl['Visitor RL'].str.strip('+')\n",
    "    rl['Home RL'] = rl['Home RL'].str.strip('+')\n",
    "    rl['Visitor RL Price'] = rl['Visitor RL Price'].str.strip('+')\n",
    "    rl['Home RL Price'] = rl['Home RL Price'].str.strip('+')\n",
    "    home_rl = rl['Home RL']\n",
    "    rl['Home RL'] = pd.to_numeric(home_rl)\n",
    "    rl['Home RL Price'] = pd.to_numeric(rl['Home RL Price'])\n",
    "    rl['Visitor RL'] = pd.to_numeric(rl['Visitor RL'])\n",
    "    rl['Visitor RL Price'] = pd.to_numeric(rl['Visitor RL Price'])\n",
    "    rl['Final_x'] = pd.to_numeric(rl['Final_x'])\n",
    "    rl['Final_y'] = pd.to_numeric(rl['Final_y'])\n",
    "    rl['Home Pitch Hand'] = rl['Home Pitcher'].str.split('-', expand=True)[1]\n",
    "    rl['Visitor Pitch Hand'] = rl['Visitor Pitcher'].str.split('-', expand=True)[1]\n",
    "    rl['Home Pitcher'] = rl['Home Pitcher'].str[:-2]\n",
    "    rl['Visitor Pitcher'] = rl['Visitor Pitcher'].str[:-2]\n",
    "    ###change team codes\n",
    "    rl['Visitor Team'] = rl['Visitor Team'].map(team_abbrev)\n",
    "    rl['Home Team'] = rl['Home Team'].map(team_abbrev)\n",
    "    rl['Home Code'] = rl['Home Team'].map(team_codes)\n",
    "    rl['Vis Code'] = rl['Visitor Team'].map(team_codes)\n",
    "    rl['date'] = pd.to_datetime(rl['date'])\n",
    "    rl['stats_join'] = rl['date'].apply(lambda x: x.strftime('%Y%m%d')) + rl['Home Code'].astype(str) + rl['Vis Code'].astype(str)\n",
    "    rl = rl[['game_id', 'date', 'Visitor Team',\n",
    "       'Visitor Pitcher', 'Home Team', 'Home Pitcher', 'Open Visitor ML',\n",
    "       'Close Visitor ML', 'Home Open ML', 'Home Close ML', 'Final_x',\n",
    "       'Final_y', 'Visitor RL', 'Visitor RL Price', 'Home RL',\n",
    "       'Home RL Price', 'Home Code', 'Vis Code', 'stats_join']]\n",
    "    return rl"
   ]
  },
  {
   "cell_type": "code",
   "execution_count": 598,
   "metadata": {},
   "outputs": [],
   "source": [
    "pd.set_option('display.max_columns', None)\n",
    "pd.set_option('display.max_rows', 100)"
   ]
  },
  {
   "cell_type": "code",
   "execution_count": 599,
   "metadata": {},
   "outputs": [],
   "source": [
    "combined_14_19 = odds_preprocessing(df_18, df_19)"
   ]
  },
  {
   "cell_type": "code",
   "execution_count": null,
   "metadata": {},
   "outputs": [],
   "source": []
  },
  {
   "cell_type": "code",
   "execution_count": null,
   "metadata": {},
   "outputs": [],
   "source": []
  },
  {
   "cell_type": "code",
   "execution_count": null,
   "metadata": {
    "scrolled": true
   },
   "outputs": [],
   "source": []
  },
  {
   "cell_type": "code",
   "execution_count": 601,
   "metadata": {},
   "outputs": [],
   "source": [
    "# combined_14_19.to_csv('../data/odds_cleaned2019.csv')"
   ]
  },
  {
   "cell_type": "code",
   "execution_count": 602,
   "metadata": {},
   "outputs": [],
   "source": [
    "def get_data():\n",
    "    df = pd.read_csv('../data/team_batting/allbatting.csv')\n",
    "    df1 = pd.read_csv('../data/team_pitching/allpitching.csv')\n",
    "\n",
    "    merged_rows = df.merge(df1, how=\"inner\", left_index=True, right_index=True)\n",
    "    return merged_rows\n",
    "\n",
    "\n"
   ]
  },
  {
   "cell_type": "code",
   "execution_count": 603,
   "metadata": {},
   "outputs": [],
   "source": [
    "def last_three(df, col_list):\n",
    "    last_3 = lambda x: x.rolling(6).mean().shift(1)\n",
    "    df[col_list] = df[col_list].apply(last_3)\n",
    "    return df\n",
    "\n",
    "\n",
    "col_list = ['PA', 'AB_x', 'R_x', 'H_x', '2B_x', '3B_x', 'HR_x', 'RBI', 'BB_x', 'IBB_x',\n",
    "       'SO_x', 'HBP_x', 'SH_x', 'SF_x', 'ROE_x', 'GDP_x', 'SB_x', 'CS_x',\n",
    "       'BA', 'OBP', 'SLG', 'OPS', 'LOB', '#_x', 'IP', 'H_y', 'R_y', 'ER', 'UER',\n",
    "       'BB_y', 'SO_y', 'HR_y', 'HBP_y', 'ERA', 'BF', 'Pit', 'Str', 'IR',\n",
    "       'IS', 'SB_y', 'CS_y', 'AB_y', '2B_y', '3B_y', 'IBB_y', 'SH_y',\n",
    "       'SF_y', 'ROE_y', 'GDP_y', '#_y']\n",
    "\n",
    "\n",
    "def compress_rows(df):\n",
    "    df['date_month'] = df['Date_x'].str.split(' ', expand=True)[0]\n",
    "    df['date_day'] = df['Date_x'].str.split(' ', expand=True)[1]\n",
    "    months = {'Jan': '01', 'Feb': '02', 'Mar': '03', 'Apr': '04', 'May': '05', 'Jun': '06', 'Jul': '07', 'Aug': '08', 'Sep': '09', 'Oct': '10', 'Nov': '11', 'Dec': '12'}\n",
    "    df['date_month'] = df['date_month'].map(months)\n",
    "    df['date_month'] = df['date_month'].astype(str)\n",
    "    df['date_month'] = df['date_month'].str.zfill(2)\n",
    "    df['date_day'] = df['date_day'].str.zfill(2)\n",
    "    df[' Year_x'] = df[' Year_x'].astype(float)\n",
    "    df[' Year_x'] = df[' Year_x'].astype(int)\n",
    "    df[' Year_x'] = df[' Year_x'].astype(str)\n",
    "    df['full_date'] = df[' Year_x'] + '-'+ df['date_month'] + '-' + df['date_day']\n",
    "    df['full_date'] = df['full_date'].str.rstrip('susp')\n",
    "    df['full_date'] = pd.to_datetime(df['full_date'])\n",
    "    df.sort_values(by=['full_date', 'Umpire'], inplace=True)\n",
    "    return df"
   ]
  },
  {
   "cell_type": "code",
   "execution_count": 629,
   "metadata": {},
   "outputs": [],
   "source": [
    "def combine_rows(df3):\n",
    "    team1 = df3.iloc[::2].copy()\n",
    "    team2 = df3.iloc[1::2].copy()\n",
    "    game_count = [i for i in range(1,int(df3.shape[0] / 2) + 1)]\n",
    "    team1['game_id'] = game_count\n",
    "    team2['game_id'] = game_count\n",
    "    full_combined = pd.merge(team1, team2, on='game_id')\n",
    "    return full_combined\n",
    "\n",
    "\n",
    "# full_combined = combine_rows(merged_rows)\n",
    "\n",
    "def final_combine(full_combined):\n",
    "    full_combined['team_1'] = full_combined['Opp_x_x'].map(team_codes)\n",
    "    full_combined['team_2'] = full_combined['Opp_x_y'].map(team_codes)\n",
    "    full_combined['Unnamed: 2_x_y'] = full_combined['Unnamed: 2_x_y'].fillna(1)\n",
    "    full_combined['Unnamed: 2_x_y'] = full_combined['Unnamed: 2_x_y'].map({'@': 0, 1: 1})\n",
    "    df4 = pd.read_csv('../data/odds_cleaned2019.csv')\n",
    "    df4['stats_join'] = df4['stats_join'].astype('str')\n",
    "    full_combined['full_date_y'] = pd.to_datetime(full_combined['full_date_y'])\n",
    "    full_combined['stats_join'] = full_combined['full_date_y'].apply(lambda x: x.strftime('%Y%m%d')) + full_combined['team_1'].astype(str) + full_combined['team_2'].astype(str)\n",
    "    full_combined['Home Team'] = np.where(full_combined['Unnamed: 2_x_y'] == 0, full_combined['Opp_x_y'], full_combined['Opp_x_x'])\n",
    "    full_combined['Away Team'] = np.where(full_combined['Unnamed: 2_x_y'] == 1, full_combined['Opp_x_y'], full_combined['Opp_x_x'])\n",
    "    full_combined['Home Code'] = full_combined['Home Team'].map(team_codes)\n",
    "    full_combined['Away Code'] = full_combined['Away Team'].map(team_codes)\n",
    "    full_combined['stats_join'] = full_combined['full_date_y'].apply(lambda x: x.strftime('%Y%m%d')) + full_combined['Home Code'].astype(str) + full_combined['Away Code'].astype(str)\n",
    "    stats_odds = pd.merge(full_combined, df4, on='stats_join')\n",
    "    stats_odds['result'] = np.where(stats_odds['Final_x'] - stats_odds['Final_y'] > 0, 0, 1)\n",
    "    stats_odds1 = stats_odds.copy()\n",
    "    return stats_odds1"
   ]
  },
  {
   "cell_type": "code",
   "execution_count": null,
   "metadata": {},
   "outputs": [],
   "source": []
  },
  {
   "cell_type": "code",
   "execution_count": 642,
   "metadata": {},
   "outputs": [],
   "source": [
    "\n",
    "def main(clf, stats_odds1):\n",
    "    stats_odds1.drop(columns=['Thr_x',\n",
    "       'Opp. Starter (GmeSc)_x', ' Year_x_x', 'Gtm_y_x', 'Date_y_x',\n",
    "       'Unnamed: 2_y_x', 'Opp_y_x', 'Rslt_y_x', 'IP_x', 'H_y_x', 'R_y_x',\n",
    "       'ER_x', 'UER_x', 'BB_y_x', 'SO_y_x', 'HR_y_x', 'HBP_y_x', 'ERA_x',\n",
    "       'BF_x', 'Pit_x', 'Str_x', 'IR_x', 'IS_x', 'SB_y_x', 'CS_y_x',\n",
    "       'AB_y_x', '2B_y_x', '3B_y_x', 'IBB_y_x', 'SH_y_x', 'SF_y_x',\n",
    "       'ROE_y_x', 'GDP_y_x', '#_y_x', 'Umpire_x',\n",
    "       'Pitchers Used (Rest-GameScore-Dec)_x', ' Year_y_x',\n",
    "       'date_month_x', 'date_day_x', 'full_date_x', 'game_id_x',\n",
    "       'Gtm_x_y', 'Date_x_y', 'Unnamed: 2_x_y', 'Opp_x_y', 'Rslt_x_y', 'Thr_y',\n",
    "       'Opp. Starter (GmeSc)_y', ' Year_x_y', 'Gtm_y_y', 'Date_y_y',\n",
    "       'Unnamed: 2_y_y', 'Opp_y_y', 'Rslt_y_y', 'IP_y', 'H_y_y', 'R_y_y',\n",
    "       'ER_y', 'UER_y', 'BB_y_y', 'SO_y_y', 'HR_y_y', 'HBP_y_y', 'ERA_y',\n",
    "       'BF_y', 'Pit_y', 'Str_y', 'IR_y', 'IS_y', 'SB_y_y', 'CS_y_y',\n",
    "       'AB_y_y', '2B_y_y', '3B_y_y', 'IBB_y_y', 'SH_y_y', 'SF_y_y',\n",
    "       'ROE_y_y', 'GDP_y_y', '#_y_y', 'Umpire_y',\n",
    "       'Pitchers Used (Rest-GameScore-Dec)_y', ' Year_y_y',\n",
    "       'date_month_y', 'date_day_y', 'full_date_y', 'team_1', 'team_2',\n",
    "       'stats_join', 'Home Team_x', 'Away Team', 'Home Code_x',\n",
    "       'Away Code', 'Unnamed: 0', 'game_id_y', 'date',\n",
    "       'Visitor Team', 'Visitor Pitcher', 'Home Team_y', 'Home Pitcher', 'Home Code_y', 'Vis Code', 'Final_x', 'Final_y', 'Gtm_x_x', 'Date_x_x', 'Unnamed: 2_x_x', 'Opp_x_x', 'Rslt_x_x'], inplace=True)\n",
    "\n",
    "    stats_odds1_16 = stats_odds1.iloc[:9898]\n",
    "\n",
    "    stats_odds1_17 = stats_odds1.iloc[9898:]\n",
    "\n",
    "    stats_odds1_16 = stats_odds1_16.dropna()\n",
    "\n",
    "    stats_odds1_17 = stats_odds1_17.dropna()\n",
    "    # return stats_odds1_16, stats_odds1_17\n",
    "\n",
    "### keep or pop opening moneylines\n",
    "    hopen_ml_16 = stats_odds1_16.pop('Home Open ML') \n",
    "    vopen_ml_16 = stats_odds1_16.pop('Open Visitor ML')\n",
    "#     hopen_ml_16 = stats_odds1_16['Home Open ML'] \n",
    "#     vopen_ml_16 = stats_odds1_16['Open Visitor ML']\n",
    "    stats_odds1_16.drop(columns=['Close Visitor ML', 'Home Close ML'], inplace=True)\n",
    "\n",
    "    hopen_ml_17 = stats_odds1_17.pop('Home Open ML') \n",
    "    vopen_ml_17 = stats_odds1_17.pop('Open Visitor ML')\n",
    "#     hopen_ml_17 = stats_odds1_17['Home Open ML'] \n",
    "#     vopen_ml_17 = stats_odds1_17['Open Visitor ML']\n",
    "    stats_odds1_17.drop(columns=['Close Visitor ML', 'Home Close ML'], inplace=True)\n",
    "    \n",
    "###drop Visitor's and Home RL Price\n",
    "#     stats_odds1_16.drop(columns=['Visitor RL Price', 'Home RL Price'], inplace=True)\n",
    "#     stats_odds1_17.drop(columns=['Visitor RL Price', 'Home RL Price'], inplace=True)\n",
    "\n",
    "\n",
    "    y = stats_odds1_16.pop('result')\n",
    "\n",
    "    X = stats_odds1_16\n",
    "\n",
    "    X_train, X_test, y_train, y_test = train_test_split(X,y, test_size=0.25, random_state=42)\n",
    "\n",
    "    # clf = RandomForestClassifier(n_estimators=100, max_features=10, max_depth=10, n_jobs=-2)\n",
    "\n",
    "#     clf.fit(X_train, y_train)\n",
    "\n",
    "    y_preds = clf.predict(X_test)\n",
    "\n",
    "    clf.predict_proba(X_test)\n",
    "\n",
    "    train_accuracy = np.mean(cross_val_score(clf, X_train, y_train, cv=5, scoring='accuracy'))\n",
    "    recall = np.mean(cross_val_score(clf, X_train, y_train, cv=5, scoring='recall'))\n",
    "    precision = np.mean(cross_val_score(clf, X_train, y_train, cv=5, scoring='precision'))\n",
    "#     print('Random Forest Train: ')\n",
    "#     print('Train Accuracy: ', train_accuracy)\n",
    "#     print('Recall: ', recall)\n",
    "#     print('Precision: ', precision)\n",
    "\n",
    "    list(zip(X, clf.feature_importances_))\n",
    "\n",
    "    feature_import = list(zip(X, clf.feature_importances_))\n",
    "    feature_import.sort(key=lambda x: x[1], reverse=True)\n",
    "    feature_import = feature_import[:10]\n",
    "    plt.bar(*zip(*feature_import))\n",
    "    plt.xticks(rotation='vertical')\n",
    "\n",
    "    ####Logistic Regression\n",
    "\n",
    "    clf1 = LogisticRegression(solver='lbfgs', max_iter=2000)\n",
    "    clf1.fit(X_train, y_train)\n",
    "    y_preds1 = clf1.predict(X_test)\n",
    "    train_accuracy1 = np.mean(cross_val_score(clf1, X_train, y_train, cv=5, scoring='accuracy'))\n",
    "    recall1 = np.mean(cross_val_score(clf1, X_train, y_train, cv=5, scoring='recall'))\n",
    "    precision1 = np.mean(cross_val_score(clf1, X_train, y_train, cv=5, scoring='precision'))\n",
    "#     print(\"Logistic Regression Train:\")\n",
    "#     print(\"Train Accuracy: \", train_accuracy1)\n",
    "#     print(\"Recall: \", recall1)\n",
    "#     print(\"Precision: \", precision1)\n",
    "\n",
    "    #### test results on holdout\n",
    "    y = stats_odds1_17.pop('result')\n",
    "\n",
    "    X = stats_odds1_17\n",
    "\n",
    "    y_preds = clf.predict(X)\n",
    "    probs = clf.predict_proba(X)\n",
    "    y_pred1 = clf1.predict(X)\n",
    "\n",
    "#     print(\"Random Forest Holdout:\")\n",
    "#     print(\"Holdout Accuracy:\",metrics.accuracy_score(y, y_preds))\n",
    "#     print(\"Holdout Recall:\", metrics.recall_score(y, y_preds))\n",
    "#     print(\"Holdout Precision:\", metrics.precision_score(y, y_preds))\n",
    "\n",
    "#     print(\"Logistic Regression Holdout:\")\n",
    "#     print(\"Train Accuracy: \",metrics.accuracy_score(y, y_pred1))\n",
    "#     print(\"Recall: \", metrics.recall_score(y, y_pred1))\n",
    "#     print(\"Precision: \", metrics.precision_score(y, y_pred1))\n",
    "\n",
    "\n",
    "    X['prob_0'] = probs[:,0] \n",
    "    X['prob_1'] = probs[:,1]\n",
    "\n",
    "    X['y_preds'] = y_preds\n",
    "\n",
    "    X['result'] = y\n",
    "\n",
    "    X['Open Visitor ML'] = vopen_ml_17 \n",
    "\n",
    "    X['Home Open ML'] = hopen_ml_17\n",
    "\n",
    "    X['Visitors Odds Prob'] = X['Open Visitor ML'].apply(lambda x: abs(int(x))/(abs(int(x)) + 100) if int(x) < 100 else 100/(int(x)+100))\n",
    "    X['Home Odds Prob'] = X['Home Open ML'].apply(lambda x: abs(int(x))/(abs(int(x)) + 100) if int(x) < 100 else 100/(int(x)+100))\n",
    "\n",
    "#     X['max_model_prob'] = X[[\"prob_0\", \"prob_1\"]].max(axis=1) * 100\n",
    "#     X['min_model_prob'] = X[[\"prob_0\", \"prob_1\"]].min(axis=1) * 100\n",
    "\n",
    "#     X['max_odds_prob'] = X[['Visitors Odds Prob', 'Home Odds Prob']].max(axis=1) * 100\n",
    "#     X['min_odds_prob'] = X[['Visitors Odds Prob', 'Home Odds Prob']].min(axis=1) * 100\n",
    "    X['v_edge'] = X['prob_0'] - X['Visitors Odds Prob']\n",
    "    X['h_edge'] = X['prob_1'] - X['Home Odds Prob']\n",
    "    \n",
    "    conditions = [\n",
    "        (X['v_edge'] > X['h_edge']) & (X['v_edge'] > 0),\n",
    "        (X['v_edge'] <= X['h_edge']) & (X['h_edge'] > 0),\n",
    "        (X['v_edge'] > X['h_edge']) & (X['v_edge'] < 0),\n",
    "        (X['v_edge'] <= X['h_edge']) & (X['h_edge'] < 0),\n",
    "    ]\n",
    "    choices = [0, 1, 2, 2]\n",
    "    X['pick'] = np.select(conditions, choices)\n",
    "    \n",
    "    X['incorrect'] = np.where(X['result'] == X['pick'], 0, 1)\n",
    "    \n",
    "    conditions2 = [\n",
    "        (X['v_edge'] > X['h_edge']) & (X['v_edge'] > 0.0225), #& (X['v_edge'] < 0.02),\n",
    "        (X['v_edge'] <= X['h_edge']) & (X['h_edge'] > 0.0225), #& (X['h_edge'] < 0.02),\n",
    "#         (X['v_edge'] > X['h_edge']) & (X['v_edge'] >= 0.03),\n",
    "#         (X['v_edge'] <= X['h_edge']) & (X['h_edge'] >= 0.03),\n",
    "        (X['v_edge'] > X['h_edge']) & (X['v_edge'] <= 0.0225),\n",
    "        (X['v_edge'] <= X['h_edge']) & (X['h_edge'] <= 0.0225),\n",
    "    ]\n",
    "    choices2 = [10, 10, 0, 0]\n",
    "    X['wager'] = np.select(conditions2, choices2)\n",
    "    \n",
    "    X['Home Payout'] = X['Home Open ML'].apply(lambda x: (100/abs(int(x)) + 1)*10 if int(x) < 100 else (int(x)/100 + 1)*10)                               \n",
    "    X['Visitor Payout'] = X['Open Visitor ML'].apply(lambda x: (100/abs(int(x)) + 1)*10 if int(x) < 100 else (int(x)/100 + 1)*10)\n",
    "\n",
    "    conditions1 = [\n",
    "        (X['incorrect'] == 0) & (X['pick'] == 0) & (X['wager'] == 10),\n",
    "        (X['incorrect'] == 0) & (X['pick'] == 1) & (X['wager'] == 10),\n",
    "#         (X['incorrect'] == 0) & (X['pick'] == 0) & (X['wager'] == 20),\n",
    "#         (X['incorrect'] == 0) & (X['pick'] == 1) & (X['wager'] == 20),\n",
    "        (X['incorrect'] == 1) & (X['wager'] == 10),\n",
    "        (X['incorrect'] == 1) & (X['wager'] == 0)]\n",
    "    choices1 = [X['Visitor Payout'], X['Home Payout'], 0, 0] #X['Visitor Payout']*2, X['Home Payout']*2, 0, 0]\n",
    "    X['payout'] = np.select(conditions1, choices1)\n",
    "\n",
    "#     X['potential edge fav'] = X['max_model_prob'] - X['max_odds_prob']\n",
    "#     X['potential edge dog'] = X['min_model_prob'] - X['min_odds_prob']\n",
    "#     X['potential edge'] = X[['potential edge fav', 'potential edge dog']].max(axis=1)\n",
    "#     X['wager'] = X['potential edge'].apply(lambda x: 10 if x > 0 else 0)\n",
    "# #     need to track which edge is max and then how that affects payout and winner\n",
    "#     X['wager'] = 10\n",
    "\n",
    "#     X['Home Payout'] = X['Home Open ML'].apply(lambda x: (100/abs(x) + 1) if x < 100 else (x/100 + 1))                               \n",
    "#     X['Visitor Payout'] = X['Open Visitor ML'].apply(lambda x: (100/abs(x) + 1) if x < 100 else (x/100 + 1))        \n",
    "#     X['Home Payout'] = X['Home Open ML'].apply(lambda x: (100/abs(x) + 1)*10 if x < 100 else (x/100 + 1)*10)                               \n",
    "#     X['Visitor Payout'] = X['Open Visitor ML'].apply(lambda x: (100/abs(x) + 1)*10 if x < 100 else (x/100 + 1)*10) \n",
    "\n",
    "\n",
    "#     X['incorrect'] = np.where(X['result'] == X['pick'], 0, 1)\n",
    "\n",
    "#     conditions = [\n",
    "#         (X['incorrect'] == 0) & (X['y_preds'] == 0) & (X['wager'] == 10),\n",
    "#         (X['incorrect'] == 0) & (X['y_preds'] == 1) & (X['wager'] == 10),\n",
    "#         (X['incorrect'] == 1) & (X['wager'] == 10),\n",
    "#         (X['incorrect'] == 1) & (X['wager'] == 0)]\n",
    "#     choices = [X['Visitor Payout'], X['Home Payout'], 0, 0]\n",
    "#     X['payout'] = np.select(conditions, choices)\n",
    "\n",
    "    X['payout'].sum()\n",
    "\n",
    "    X['wager'].sum()\n",
    "    \n",
    "    print(X['wager'].value_counts())\n",
    "    print(X[X['payout'] > 0].count())\n",
    "\n",
    "    roi = (X['payout'].sum() / X['wager'].sum() - 1) * 100\n",
    "\n",
    "    print('ROI = {}'.format(roi))\n",
    "    return X\n"
   ]
  },
  {
   "cell_type": "code",
   "execution_count": 643,
   "metadata": {},
   "outputs": [],
   "source": [
    "from sklearn.externals import joblib"
   ]
  },
  {
   "cell_type": "code",
   "execution_count": 644,
   "metadata": {},
   "outputs": [],
   "source": [
    "# clf = joblib.load('saved_model.pkl')\n",
    "clf = joblib.load('saved_model_6gameavg.pkl')\n",
    "# clf = RandomForestClassifier(n_estimators=200, max_features=15, max_depth=10, n_jobs=-2)"
   ]
  },
  {
   "cell_type": "code",
   "execution_count": 645,
   "metadata": {},
   "outputs": [],
   "source": [
    "merged_rows = get_data()\n"
   ]
  },
  {
   "cell_type": "code",
   "execution_count": 646,
   "metadata": {},
   "outputs": [],
   "source": [
    "merged_rows = last_three(merged_rows, col_list)\n"
   ]
  },
  {
   "cell_type": "code",
   "execution_count": 647,
   "metadata": {},
   "outputs": [],
   "source": [
    "merged_rows.dropna(subset=['Date_x'], inplace=True)\n"
   ]
  },
  {
   "cell_type": "code",
   "execution_count": 648,
   "metadata": {},
   "outputs": [],
   "source": [
    "merged_rows = compress_rows(merged_rows)\n"
   ]
  },
  {
   "cell_type": "code",
   "execution_count": 649,
   "metadata": {},
   "outputs": [
    {
     "data": {
      "text/plain": [
       "(27276, 69)"
      ]
     },
     "execution_count": 649,
     "metadata": {},
     "output_type": "execute_result"
    }
   ],
   "source": [
    "merged_rows.shape"
   ]
  },
  {
   "cell_type": "code",
   "execution_count": 650,
   "metadata": {},
   "outputs": [],
   "source": [
    "full_combined = combine_rows(merged_rows)\n"
   ]
  },
  {
   "cell_type": "code",
   "execution_count": null,
   "metadata": {},
   "outputs": [],
   "source": []
  },
  {
   "cell_type": "code",
   "execution_count": 651,
   "metadata": {},
   "outputs": [],
   "source": [
    "from sklearn.ensemble import RandomForestClassifier\n",
    "from sklearn.linear_model import LogisticRegression\n",
    "from sklearn.model_selection import train_test_split\n",
    "from sklearn import metrics\n",
    "from sklearn.model_selection import cross_val_score\n",
    "import matplotlib.pyplot as plt"
   ]
  },
  {
   "cell_type": "code",
   "execution_count": 652,
   "metadata": {},
   "outputs": [],
   "source": [
    "stats_odds1 = final_combine(full_combined)"
   ]
  },
  {
   "cell_type": "code",
   "execution_count": null,
   "metadata": {
    "scrolled": true
   },
   "outputs": [],
   "source": []
  },
  {
   "cell_type": "code",
   "execution_count": null,
   "metadata": {},
   "outputs": [],
   "source": []
  },
  {
   "cell_type": "code",
   "execution_count": 653,
   "metadata": {},
   "outputs": [
    {
     "ename": "ValueError",
     "evalue": "invalid literal for int() with base 10: 'NL'",
     "output_type": "error",
     "traceback": [
      "\u001b[0;31m---------------------------------------------------------------------------\u001b[0m",
      "\u001b[0;31mValueError\u001b[0m                                Traceback (most recent call last)",
      "\u001b[0;32m<ipython-input-653-4897e903123f>\u001b[0m in \u001b[0;36m<module>\u001b[0;34m\u001b[0m\n\u001b[0;32m----> 1\u001b[0;31m \u001b[0mX1\u001b[0m \u001b[0;34m=\u001b[0m \u001b[0mmain\u001b[0m\u001b[0;34m(\u001b[0m\u001b[0mclf\u001b[0m\u001b[0;34m,\u001b[0m \u001b[0mstats_odds1\u001b[0m\u001b[0;34m)\u001b[0m\u001b[0;34m\u001b[0m\u001b[0;34m\u001b[0m\u001b[0m\n\u001b[0m",
      "\u001b[0;32m<ipython-input-642-59ed346c282c>\u001b[0m in \u001b[0;36mmain\u001b[0;34m(clf, stats_odds1)\u001b[0m\n\u001b[1;32m    124\u001b[0m     \u001b[0mX\u001b[0m\u001b[0;34m[\u001b[0m\u001b[0;34m'Home Open ML'\u001b[0m\u001b[0;34m]\u001b[0m \u001b[0;34m=\u001b[0m \u001b[0mhopen_ml_17\u001b[0m\u001b[0;34m\u001b[0m\u001b[0;34m\u001b[0m\u001b[0m\n\u001b[1;32m    125\u001b[0m \u001b[0;34m\u001b[0m\u001b[0m\n\u001b[0;32m--> 126\u001b[0;31m     \u001b[0mX\u001b[0m\u001b[0;34m[\u001b[0m\u001b[0;34m'Visitors Odds Prob'\u001b[0m\u001b[0;34m]\u001b[0m \u001b[0;34m=\u001b[0m \u001b[0mX\u001b[0m\u001b[0;34m[\u001b[0m\u001b[0;34m'Open Visitor ML'\u001b[0m\u001b[0;34m]\u001b[0m\u001b[0;34m.\u001b[0m\u001b[0mapply\u001b[0m\u001b[0;34m(\u001b[0m\u001b[0;32mlambda\u001b[0m \u001b[0mx\u001b[0m\u001b[0;34m:\u001b[0m \u001b[0mabs\u001b[0m\u001b[0;34m(\u001b[0m\u001b[0mint\u001b[0m\u001b[0;34m(\u001b[0m\u001b[0mx\u001b[0m\u001b[0;34m)\u001b[0m\u001b[0;34m)\u001b[0m\u001b[0;34m/\u001b[0m\u001b[0;34m(\u001b[0m\u001b[0mabs\u001b[0m\u001b[0;34m(\u001b[0m\u001b[0mint\u001b[0m\u001b[0;34m(\u001b[0m\u001b[0mx\u001b[0m\u001b[0;34m)\u001b[0m\u001b[0;34m)\u001b[0m \u001b[0;34m+\u001b[0m \u001b[0;36m100\u001b[0m\u001b[0;34m)\u001b[0m \u001b[0;32mif\u001b[0m \u001b[0mint\u001b[0m\u001b[0;34m(\u001b[0m\u001b[0mx\u001b[0m\u001b[0;34m)\u001b[0m \u001b[0;34m<\u001b[0m \u001b[0;36m100\u001b[0m \u001b[0;32melse\u001b[0m \u001b[0;36m100\u001b[0m\u001b[0;34m/\u001b[0m\u001b[0;34m(\u001b[0m\u001b[0mint\u001b[0m\u001b[0;34m(\u001b[0m\u001b[0mx\u001b[0m\u001b[0;34m)\u001b[0m\u001b[0;34m+\u001b[0m\u001b[0;36m100\u001b[0m\u001b[0;34m)\u001b[0m\u001b[0;34m)\u001b[0m\u001b[0;34m\u001b[0m\u001b[0;34m\u001b[0m\u001b[0m\n\u001b[0m\u001b[1;32m    127\u001b[0m     \u001b[0mX\u001b[0m\u001b[0;34m[\u001b[0m\u001b[0;34m'Home Odds Prob'\u001b[0m\u001b[0;34m]\u001b[0m \u001b[0;34m=\u001b[0m \u001b[0mX\u001b[0m\u001b[0;34m[\u001b[0m\u001b[0;34m'Home Open ML'\u001b[0m\u001b[0;34m]\u001b[0m\u001b[0;34m.\u001b[0m\u001b[0mapply\u001b[0m\u001b[0;34m(\u001b[0m\u001b[0;32mlambda\u001b[0m \u001b[0mx\u001b[0m\u001b[0;34m:\u001b[0m \u001b[0mabs\u001b[0m\u001b[0;34m(\u001b[0m\u001b[0mint\u001b[0m\u001b[0;34m(\u001b[0m\u001b[0mx\u001b[0m\u001b[0;34m)\u001b[0m\u001b[0;34m)\u001b[0m\u001b[0;34m/\u001b[0m\u001b[0;34m(\u001b[0m\u001b[0mabs\u001b[0m\u001b[0;34m(\u001b[0m\u001b[0mint\u001b[0m\u001b[0;34m(\u001b[0m\u001b[0mx\u001b[0m\u001b[0;34m)\u001b[0m\u001b[0;34m)\u001b[0m \u001b[0;34m+\u001b[0m \u001b[0;36m100\u001b[0m\u001b[0;34m)\u001b[0m \u001b[0;32mif\u001b[0m \u001b[0mint\u001b[0m\u001b[0;34m(\u001b[0m\u001b[0mx\u001b[0m\u001b[0;34m)\u001b[0m \u001b[0;34m<\u001b[0m \u001b[0;36m100\u001b[0m \u001b[0;32melse\u001b[0m \u001b[0;36m100\u001b[0m\u001b[0;34m/\u001b[0m\u001b[0;34m(\u001b[0m\u001b[0mint\u001b[0m\u001b[0;34m(\u001b[0m\u001b[0mx\u001b[0m\u001b[0;34m)\u001b[0m\u001b[0;34m+\u001b[0m\u001b[0;36m100\u001b[0m\u001b[0;34m)\u001b[0m\u001b[0;34m)\u001b[0m\u001b[0;34m\u001b[0m\u001b[0;34m\u001b[0m\u001b[0m\n\u001b[1;32m    128\u001b[0m \u001b[0;34m\u001b[0m\u001b[0m\n",
      "\u001b[0;32m~/anaconda3/lib/python3.7/site-packages/pandas/core/series.py\u001b[0m in \u001b[0;36mapply\u001b[0;34m(self, func, convert_dtype, args, **kwds)\u001b[0m\n\u001b[1;32m   3192\u001b[0m             \u001b[0;32melse\u001b[0m\u001b[0;34m:\u001b[0m\u001b[0;34m\u001b[0m\u001b[0;34m\u001b[0m\u001b[0m\n\u001b[1;32m   3193\u001b[0m                 \u001b[0mvalues\u001b[0m \u001b[0;34m=\u001b[0m \u001b[0mself\u001b[0m\u001b[0;34m.\u001b[0m\u001b[0mastype\u001b[0m\u001b[0;34m(\u001b[0m\u001b[0mobject\u001b[0m\u001b[0;34m)\u001b[0m\u001b[0;34m.\u001b[0m\u001b[0mvalues\u001b[0m\u001b[0;34m\u001b[0m\u001b[0;34m\u001b[0m\u001b[0m\n\u001b[0;32m-> 3194\u001b[0;31m                 \u001b[0mmapped\u001b[0m \u001b[0;34m=\u001b[0m \u001b[0mlib\u001b[0m\u001b[0;34m.\u001b[0m\u001b[0mmap_infer\u001b[0m\u001b[0;34m(\u001b[0m\u001b[0mvalues\u001b[0m\u001b[0;34m,\u001b[0m \u001b[0mf\u001b[0m\u001b[0;34m,\u001b[0m \u001b[0mconvert\u001b[0m\u001b[0;34m=\u001b[0m\u001b[0mconvert_dtype\u001b[0m\u001b[0;34m)\u001b[0m\u001b[0;34m\u001b[0m\u001b[0;34m\u001b[0m\u001b[0m\n\u001b[0m\u001b[1;32m   3195\u001b[0m \u001b[0;34m\u001b[0m\u001b[0m\n\u001b[1;32m   3196\u001b[0m         \u001b[0;32mif\u001b[0m \u001b[0mlen\u001b[0m\u001b[0;34m(\u001b[0m\u001b[0mmapped\u001b[0m\u001b[0;34m)\u001b[0m \u001b[0;32mand\u001b[0m \u001b[0misinstance\u001b[0m\u001b[0;34m(\u001b[0m\u001b[0mmapped\u001b[0m\u001b[0;34m[\u001b[0m\u001b[0;36m0\u001b[0m\u001b[0;34m]\u001b[0m\u001b[0;34m,\u001b[0m \u001b[0mSeries\u001b[0m\u001b[0;34m)\u001b[0m\u001b[0;34m:\u001b[0m\u001b[0;34m\u001b[0m\u001b[0;34m\u001b[0m\u001b[0m\n",
      "\u001b[0;32mpandas/_libs/src/inference.pyx\u001b[0m in \u001b[0;36mpandas._libs.lib.map_infer\u001b[0;34m()\u001b[0m\n",
      "\u001b[0;32m<ipython-input-642-59ed346c282c>\u001b[0m in \u001b[0;36m<lambda>\u001b[0;34m(x)\u001b[0m\n\u001b[1;32m    124\u001b[0m     \u001b[0mX\u001b[0m\u001b[0;34m[\u001b[0m\u001b[0;34m'Home Open ML'\u001b[0m\u001b[0;34m]\u001b[0m \u001b[0;34m=\u001b[0m \u001b[0mhopen_ml_17\u001b[0m\u001b[0;34m\u001b[0m\u001b[0;34m\u001b[0m\u001b[0m\n\u001b[1;32m    125\u001b[0m \u001b[0;34m\u001b[0m\u001b[0m\n\u001b[0;32m--> 126\u001b[0;31m     \u001b[0mX\u001b[0m\u001b[0;34m[\u001b[0m\u001b[0;34m'Visitors Odds Prob'\u001b[0m\u001b[0;34m]\u001b[0m \u001b[0;34m=\u001b[0m \u001b[0mX\u001b[0m\u001b[0;34m[\u001b[0m\u001b[0;34m'Open Visitor ML'\u001b[0m\u001b[0;34m]\u001b[0m\u001b[0;34m.\u001b[0m\u001b[0mapply\u001b[0m\u001b[0;34m(\u001b[0m\u001b[0;32mlambda\u001b[0m \u001b[0mx\u001b[0m\u001b[0;34m:\u001b[0m \u001b[0mabs\u001b[0m\u001b[0;34m(\u001b[0m\u001b[0mint\u001b[0m\u001b[0;34m(\u001b[0m\u001b[0mx\u001b[0m\u001b[0;34m)\u001b[0m\u001b[0;34m)\u001b[0m\u001b[0;34m/\u001b[0m\u001b[0;34m(\u001b[0m\u001b[0mabs\u001b[0m\u001b[0;34m(\u001b[0m\u001b[0mint\u001b[0m\u001b[0;34m(\u001b[0m\u001b[0mx\u001b[0m\u001b[0;34m)\u001b[0m\u001b[0;34m)\u001b[0m \u001b[0;34m+\u001b[0m \u001b[0;36m100\u001b[0m\u001b[0;34m)\u001b[0m \u001b[0;32mif\u001b[0m \u001b[0mint\u001b[0m\u001b[0;34m(\u001b[0m\u001b[0mx\u001b[0m\u001b[0;34m)\u001b[0m \u001b[0;34m<\u001b[0m \u001b[0;36m100\u001b[0m \u001b[0;32melse\u001b[0m \u001b[0;36m100\u001b[0m\u001b[0;34m/\u001b[0m\u001b[0;34m(\u001b[0m\u001b[0mint\u001b[0m\u001b[0;34m(\u001b[0m\u001b[0mx\u001b[0m\u001b[0;34m)\u001b[0m\u001b[0;34m+\u001b[0m\u001b[0;36m100\u001b[0m\u001b[0;34m)\u001b[0m\u001b[0;34m)\u001b[0m\u001b[0;34m\u001b[0m\u001b[0;34m\u001b[0m\u001b[0m\n\u001b[0m\u001b[1;32m    127\u001b[0m     \u001b[0mX\u001b[0m\u001b[0;34m[\u001b[0m\u001b[0;34m'Home Odds Prob'\u001b[0m\u001b[0;34m]\u001b[0m \u001b[0;34m=\u001b[0m \u001b[0mX\u001b[0m\u001b[0;34m[\u001b[0m\u001b[0;34m'Home Open ML'\u001b[0m\u001b[0;34m]\u001b[0m\u001b[0;34m.\u001b[0m\u001b[0mapply\u001b[0m\u001b[0;34m(\u001b[0m\u001b[0;32mlambda\u001b[0m \u001b[0mx\u001b[0m\u001b[0;34m:\u001b[0m \u001b[0mabs\u001b[0m\u001b[0;34m(\u001b[0m\u001b[0mint\u001b[0m\u001b[0;34m(\u001b[0m\u001b[0mx\u001b[0m\u001b[0;34m)\u001b[0m\u001b[0;34m)\u001b[0m\u001b[0;34m/\u001b[0m\u001b[0;34m(\u001b[0m\u001b[0mabs\u001b[0m\u001b[0;34m(\u001b[0m\u001b[0mint\u001b[0m\u001b[0;34m(\u001b[0m\u001b[0mx\u001b[0m\u001b[0;34m)\u001b[0m\u001b[0;34m)\u001b[0m \u001b[0;34m+\u001b[0m \u001b[0;36m100\u001b[0m\u001b[0;34m)\u001b[0m \u001b[0;32mif\u001b[0m \u001b[0mint\u001b[0m\u001b[0;34m(\u001b[0m\u001b[0mx\u001b[0m\u001b[0;34m)\u001b[0m \u001b[0;34m<\u001b[0m \u001b[0;36m100\u001b[0m \u001b[0;32melse\u001b[0m \u001b[0;36m100\u001b[0m\u001b[0;34m/\u001b[0m\u001b[0;34m(\u001b[0m\u001b[0mint\u001b[0m\u001b[0;34m(\u001b[0m\u001b[0mx\u001b[0m\u001b[0;34m)\u001b[0m\u001b[0;34m+\u001b[0m\u001b[0;36m100\u001b[0m\u001b[0;34m)\u001b[0m\u001b[0;34m)\u001b[0m\u001b[0;34m\u001b[0m\u001b[0;34m\u001b[0m\u001b[0m\n\u001b[1;32m    128\u001b[0m \u001b[0;34m\u001b[0m\u001b[0m\n",
      "\u001b[0;31mValueError\u001b[0m: invalid literal for int() with base 10: 'NL'"
     ]
    },
    {
     "data": {
      "image/png": "[encoded data removed]",
      "text/plain": [
       "<Figure size 432x288 with 1 Axes>"
      ]
     },
     "metadata": {
      "needs_background": "light"
     },
     "output_type": "display_data"
    }
   ],
   "source": [
    "X1 = main(clf, stats_odds1)"
   ]
  },
  {
   "cell_type": "code",
   "execution_count": null,
   "metadata": {},
   "outputs": [],
   "source": []
  },
  {
   "cell_type": "code",
   "execution_count": null,
   "metadata": {},
   "outputs": [],
   "source": []
  },
  {
   "cell_type": "code",
   "execution_count": 696,
   "metadata": {},
   "outputs": [
    {
     "data": {
      "text/plain": [
       "['saved_model_6gameavg.pkl']"
      ]
     },
     "execution_count": 696,
     "metadata": {},
     "output_type": "execute_result"
    }
   ],
   "source": [
    "# joblib.dump(clf, 'saved_model_6gameavg.pkl')"
   ]
  },
  {
   "cell_type": "code",
   "execution_count": null,
   "metadata": {
    "scrolled": true
   },
   "outputs": [],
   "source": []
  },
  {
   "cell_type": "code",
   "execution_count": null,
   "metadata": {},
   "outputs": [],
   "source": []
  },
  {
   "cell_type": "code",
   "execution_count": null,
   "metadata": {},
   "outputs": [],
   "source": []
  },
  {
   "cell_type": "code",
   "execution_count": null,
   "metadata": {},
   "outputs": [],
   "source": []
  },
  {
   "cell_type": "code",
   "execution_count": null,
   "metadata": {},
   "outputs": [],
   "source": []
  }
 ],
 "metadata": {
  "kernelspec": {
   "display_name": "Python 3",
   "language": "python",
   "name": "python3"
  },
  "language_info": {
   "codemirror_mode": {
    "name": "ipython",
    "version": 3
   },
   "file_extension": ".py",
   "mimetype": "text/x-python",
   "name": "python",
   "nbconvert_exporter": "python",
   "pygments_lexer": "ipython3",
   "version": "3.7.1"
  }
 },
 "nbformat": 4,
 "nbformat_minor": 2
}
